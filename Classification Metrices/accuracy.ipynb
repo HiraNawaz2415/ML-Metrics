{
 "metadata": {
  "language_info": {
   "codemirror_mode": {
    "name": "ipython",
    "version": 3
   },
   "file_extension": ".py",
   "mimetype": "text/x-python",
   "name": "python",
   "nbconvert_exporter": "python",
   "pygments_lexer": "ipython3",
   "version": "3.12.2-final"
  },
  "orig_nbformat": 2,
  "kernelspec": {
   "name": "python3",
   "display_name": "Python 3.12.2 64-bit ('venv2')",
   "metadata": {
    "interpreter": {
     "hash": "03487c50d935b3e404dd753985c7279e44fb229f54955b1da4b4970915666a9f"
    }
   }
  }
 },
 "nbformat": 4,
 "nbformat_minor": 2,
 "cells": [
  {
   "source": [
    "# Accuracy:\n",
    "Accuracy tells you:\n",
    "   Out of all predictions, how many did the model get right?"
   ],
   "cell_type": "markdown",
   "metadata": {}
  },
  {
   "source": [
    "## Formula\n",
    "  Accuracy=Correct Predictions/Total Predictions\n",
    "  =TP+TN/TP+TN+FP+FN\n",
    "\n",
    "​\n"
   ],
   "cell_type": "markdown",
   "metadata": {}
  },
  {
   "source": [
    "**TP (True Positive):**  Correctly predicted positive cases\n",
    "\n",
    "**TN (True Negative):** Correctly predicted negative cases\n",
    "\n",
    "**FP (False Positive):** Wrongly predicted positive (was negative)\n",
    "\n",
    "**FN (False Negative):**  Wrongly predicted negative (was positive)\n",
    "\n"
   ],
   "cell_type": "markdown",
   "metadata": {}
  },
  {
   "source": [
    "## Example\n",
    "Suppose you have 100 emails:\n",
    "\n",
    "- 90 are not spam\n",
    "\n",
    "- 10 are spam\n",
    "\n",
    "- Suppose Model predicts:\n",
    "\n",
    "- 90 emails correctly as not spam (TN)\n",
    "\n",
    "- 5 spam emails correctly (TP)\n",
    "\n",
    "- 5 spam emails are missed (predicted as not spam) (FN)\n",
    "\n",
    "- 0 normal emails wrongly marked as spam (FP)\n",
    "\n",
    "So:\n",
    "   - Correct = TP + TN = 5 + 90 = 95\n",
    "   - Total = 100\n",
    "   - Accuracy = 95 / 100 = 95%"
   ],
   "cell_type": "markdown",
   "metadata": {}
  },
  {
   "source": [
    "## Where Accuracy is Misleading\n",
    "- Model  missed 5 spam emails\n",
    "- But  still got 95% accuracy — looks good, right?\n",
    "The problem is:\n",
    "\n",
    "             - The data is imbalanced (90% not spam, only 10% spam)\n",
    "\n",
    "- The model could have done nothing and marked all emails as not spam, and it would still get 90% accuracy!\n",
    "\n",
    "- So accuracy does not tell  how well the model catches the rare spam that’s why we also need Precision, Recall, and F1-Score to really see how good the model is for the minority class. Basically it does not tell whether how much the type 1 and type 2 error . that is over come using confusion metric for knowing that.\n",
    "\n"
   ],
   "cell_type": "markdown",
   "metadata": {}
  },
  {
   "source": [
    "### Key Point\n",
    "- Good: When you have balanced data (e.g., 50% spam, 50% not spam).\n",
    "\n",
    "- Bad: When one class is much bigger than the other."
   ],
   "cell_type": "markdown",
   "metadata": {}
  },
  {
   "source": [
    " ### Rule:\n",
    " - High accuracy ≠ good model when classes are imbalanced."
   ],
   "cell_type": "markdown",
   "metadata": {}
  },
  {
   "source": [
    "### Q. how much the accuracy should be?\n",
    "- it depend on the nature of data."
   ],
   "cell_type": "markdown",
   "metadata": {}
  },
  {
   "cell_type": "code",
   "execution_count": 13,
   "metadata": {},
   "outputs": [],
   "source": [
    "from sklearn.metrics import accuracy_score,confusion_matrix\n",
    "import pandas as pd"
   ]
  },
  {
   "cell_type": "code",
   "execution_count": 7,
   "metadata": {},
   "outputs": [],
   "source": [
    "\n",
    "# --- Example: 1000 transactions ---\n",
    "# 999 normal (label = 0), 1 fraud (label = 1)\n",
    "data = {\n",
    "    'Transaction_ID': list(range(1, 1001)),\n",
    "    'Actual': [0] * 999 + [1],        # 0 = normal, 1 = fraud\n",
    "    'Predicted': [0] * 1000           # Model predicts all normal\n",
    "}\n",
    "\n",
    "df = pd.DataFrame(data)\n"
   ]
  },
  {
   "cell_type": "code",
   "execution_count": 4,
   "metadata": {},
   "outputs": [
    {
     "output_type": "stream",
     "name": "stdout",
     "text": [
      "Accuracy: 0.999\n"
     ]
    }
   ],
   "source": [
    "# --- Accuracy ---\n",
    "accuracy = accuracy_score(y_true, y_pred)\n",
    "print(\"Accuracy:\", accuracy)"
   ]
  },
  {
   "cell_type": "code",
   "execution_count": 8,
   "metadata": {},
   "outputs": [
    {
     "output_type": "stream",
     "name": "stdout",
     "text": [
      "     Transaction_ID  Actual  Predicted\n995             996       0          0\n996             997       0          0\n997             998       0          0\n998             999       0          0\n999            1000       1          0\n"
     ]
    }
   ],
   "source": [
    "print(df.tail())"
   ]
  },
  {
   "cell_type": "code",
   "execution_count": 9,
   "metadata": {},
   "outputs": [],
   "source": [
    "accuracy = accuracy_score(df['Actual'], df['Predicted'])"
   ]
  },
  {
   "cell_type": "code",
   "execution_count": 11,
   "metadata": {},
   "outputs": [
    {
     "output_type": "stream",
     "name": "stdout",
     "text": [
      "\n Accuracy: 0.999\n"
     ]
    }
   ],
   "source": [
    "print(\"\\n Accuracy:\", accuracy)"
   ]
  },
  {
   "cell_type": "code",
   "execution_count": 14,
   "metadata": {},
   "outputs": [],
   "source": [
    "cm = confusion_matrix(df['Actual'], df['Predicted'])"
   ]
  },
  {
   "source": [],
   "cell_type": "markdown",
   "metadata": {}
  },
  {
   "cell_type": "code",
   "execution_count": 16,
   "metadata": {},
   "outputs": [
    {
     "output_type": "execute_result",
     "data": {
      "text/plain": [
       "array([[999,   0],\n",
       "       [  1,   0]])"
      ]
     },
     "metadata": {},
     "execution_count": 16
    }
   ],
   "source": [
    "cm"
   ]
  },
  {
   "cell_type": "code",
   "execution_count": 18,
   "metadata": {},
   "outputs": [],
   "source": [
    "import pandas as pd\n",
    "from sklearn.metrics import confusion_matrix, ConfusionMatrixDisplay\n",
    "import seaborn as sns\n",
    "import matplotlib.pyplot as plt\n",
    "\n",
    "# --- 1️ Example data ---\n",
    "# 999 normal, 1 fraud\n",
    "y_true = [0] * 999 + [1]\n",
    "y_pred = [0] * 1000  # Model predicts all normal\n",
    "\n",
    "\n"
   ]
  },
  {
   "source": [
    "# Confusion Matrix\n",
    "Definition: Table showing counts of TP, FP, TN, F"
   ],
   "cell_type": "markdown",
   "metadata": {}
  },
  {
   "source": [
    "|                     | Predicted Positive | Predicted Negative |\n",
    "| ------------------- | ------------------ | ------------------ |\n",
    "| **Actual Positive** | TP                 | FN                 |\n",
    "| **Actual Negative** | FP                 | TN                 |\n",
    " Basis for all other metrics."
   ],
   "cell_type": "markdown",
   "metadata": {}
  },
  {
   "cell_type": "code",
   "execution_count": 19,
   "metadata": {},
   "outputs": [
    {
     "output_type": "stream",
     "name": "stdout",
     "text": [
      "Confusion Matrix:\n [[999   0]\n [  1   0]]\n"
     ]
    },
    {
     "output_type": "display_data",
     "data": {
      "text/plain": "<Figure size 600x400 with 2 Axes>",
      "image/svg+xml": "<?xml version=\"1.0\" encoding=\"utf-8\" standalone=\"no\"?>\n<!DOCTYPE svg PUBLIC \"-//W3C//DTD SVG 1.1//EN\"\n  \"http://www.w3.org/Graphics/SVG/1.1/DTD/svg11.dtd\">\n<svg xmlns:xlink=\"http://www.w3.org/1999/xlink\" width=\"366.51175pt\" height=\"281.634375pt\" viewBox=\"0 0 366.51175 281.634375\" xmlns=\"http://www.w3.org/2000/svg\" version=\"1.1\">\n <metadata>\n  <rdf:RDF xmlns:dc=\"http://purl.org/dc/elements/1.1/\" xmlns:cc=\"http://creativecommons.org/ns#\" xmlns:rdf=\"http://www.w3.org/1999/02/22-rdf-syntax-ns#\">\n   <cc:Work>\n    <dc:type rdf:resource=\"http://purl.org/dc/dcmitype/StillImage\"/>\n    <dc:date>2025-06-29T23:49:42.654272</dc:date>\n    <dc:format>image/svg+xml</dc:format>\n    <dc:creator>\n     <cc:Agent>\n      <dc:title>Matplotlib v3.10.3, https://matplotlib.org/</dc:title>\n     </cc:Agent>\n    </dc:creator>\n   </cc:Work>\n  </rdf:RDF>\n </metadata>\n <defs>\n  <style type=\"text/css\">*{stroke-linejoin: round; stroke-linecap: butt}</style>\n </defs>\n <g id=\"figure_1\">\n  <g id=\"patch_1\">\n   <path d=\"M 0 281.634375 \nL 366.51175 281.634375 \nL 366.51175 0 \nL 0 0 \nz\n\" style=\"fill: #ffffff\"/>\n  </g>\n  <g id=\"axes_1\">\n   <g id=\"patch_2\">\n    <path d=\"M 37.55625 244.078125 \nL 305.39625 244.078125 \nL 305.39625 22.318125 \nL 37.55625 22.318125 \nz\n\" style=\"fill: #ffffff\"/>\n   </g>\n   <g id=\"QuadMesh_1\">\n    <path d=\"M 37.55625 22.318125 \nL 171.47625 22.318125 \nL 171.47625 133.198125 \nL 37.55625 133.198125 \nL 37.55625 22.318125 \n\" clip-path=\"url(#pcc5ce51a5b)\" style=\"fill: #08306b\"/>\n    <path d=\"M 171.47625 22.318125 \nL 305.39625 22.318125 \nL 305.39625 133.198125 \nL 171.47625 133.198125 \nL 171.47625 22.318125 \n\" clip-path=\"url(#pcc5ce51a5b)\" style=\"fill: #f7fbff\"/>\n    <path d=\"M 37.55625 133.198125 \nL 171.47625 133.198125 \nL 171.47625 244.078125 \nL 37.55625 244.078125 \nL 37.55625 133.198125 \n\" clip-path=\"url(#pcc5ce51a5b)\" style=\"fill: #f7fbff\"/>\n    <path d=\"M 171.47625 133.198125 \nL 305.39625 133.198125 \nL 305.39625 244.078125 \nL 171.47625 244.078125 \nL 171.47625 133.198125 \n\" clip-path=\"url(#pcc5ce51a5b)\" style=\"fill: #f7fbff\"/>\n   </g>\n   <g id=\"matplotlib.axis_1\">\n    <g id=\"xtick_1\">\n     <g id=\"line2d_1\">\n      <defs>\n       <path id=\"mda910a1f17\" d=\"M 0 0 \nL 0 3.5 \n\" style=\"stroke: #000000; stroke-width: 0.8\"/>\n      </defs>\n      <g>\n       <use xlink:href=\"#mda910a1f17\" x=\"104.51625\" y=\"244.078125\" style=\"stroke: #000000; stroke-width: 0.8\"/>\n      </g>\n     </g>\n     <g id=\"text_1\">\n      <!-- Normal -->\n      <g transform=\"translate(86.424844 258.676562) scale(0.1 -0.1)\">\n       <defs>\n        <path id=\"DejaVuSans-4e\" d=\"M 628 4666 \nL 1478 4666 \nL 3547 763 \nL 3547 4666 \nL 4159 4666 \nL 4159 0 \nL 3309 0 \nL 1241 3903 \nL 1241 0 \nL 628 0 \nL 628 4666 \nz\n\" transform=\"scale(0.015625)\"/>\n        <path id=\"DejaVuSans-6f\" d=\"M 1959 3097 \nQ 1497 3097 1228 2736 \nQ 959 2375 959 1747 \nQ 959 1119 1226 758 \nQ 1494 397 1959 397 \nQ 2419 397 2687 759 \nQ 2956 1122 2956 1747 \nQ 2956 2369 2687 2733 \nQ 2419 3097 1959 3097 \nz\nM 1959 3584 \nQ 2709 3584 3137 3096 \nQ 3566 2609 3566 1747 \nQ 3566 888 3137 398 \nQ 2709 -91 1959 -91 \nQ 1206 -91 779 398 \nQ 353 888 353 1747 \nQ 353 2609 779 3096 \nQ 1206 3584 1959 3584 \nz\n\" transform=\"scale(0.015625)\"/>\n        <path id=\"DejaVuSans-72\" d=\"M 2631 2963 \nQ 2534 3019 2420 3045 \nQ 2306 3072 2169 3072 \nQ 1681 3072 1420 2755 \nQ 1159 2438 1159 1844 \nL 1159 0 \nL 581 0 \nL 581 3500 \nL 1159 3500 \nL 1159 2956 \nQ 1341 3275 1631 3429 \nQ 1922 3584 2338 3584 \nQ 2397 3584 2469 3576 \nQ 2541 3569 2628 3553 \nL 2631 2963 \nz\n\" transform=\"scale(0.015625)\"/>\n        <path id=\"DejaVuSans-6d\" d=\"M 3328 2828 \nQ 3544 3216 3844 3400 \nQ 4144 3584 4550 3584 \nQ 5097 3584 5394 3201 \nQ 5691 2819 5691 2113 \nL 5691 0 \nL 5113 0 \nL 5113 2094 \nQ 5113 2597 4934 2840 \nQ 4756 3084 4391 3084 \nQ 3944 3084 3684 2787 \nQ 3425 2491 3425 1978 \nL 3425 0 \nL 2847 0 \nL 2847 2094 \nQ 2847 2600 2669 2842 \nQ 2491 3084 2119 3084 \nQ 1678 3084 1418 2786 \nQ 1159 2488 1159 1978 \nL 1159 0 \nL 581 0 \nL 581 3500 \nL 1159 3500 \nL 1159 2956 \nQ 1356 3278 1631 3431 \nQ 1906 3584 2284 3584 \nQ 2666 3584 2933 3390 \nQ 3200 3197 3328 2828 \nz\n\" transform=\"scale(0.015625)\"/>\n        <path id=\"DejaVuSans-61\" d=\"M 2194 1759 \nQ 1497 1759 1228 1600 \nQ 959 1441 959 1056 \nQ 959 750 1161 570 \nQ 1363 391 1709 391 \nQ 2188 391 2477 730 \nQ 2766 1069 2766 1631 \nL 2766 1759 \nL 2194 1759 \nz\nM 3341 1997 \nL 3341 0 \nL 2766 0 \nL 2766 531 \nQ 2569 213 2275 61 \nQ 1981 -91 1556 -91 \nQ 1019 -91 701 211 \nQ 384 513 384 1019 \nQ 384 1609 779 1909 \nQ 1175 2209 1959 2209 \nL 2766 2209 \nL 2766 2266 \nQ 2766 2663 2505 2880 \nQ 2244 3097 1772 3097 \nQ 1472 3097 1187 3025 \nQ 903 2953 641 2809 \nL 641 3341 \nQ 956 3463 1253 3523 \nQ 1550 3584 1831 3584 \nQ 2591 3584 2966 3190 \nQ 3341 2797 3341 1997 \nz\n\" transform=\"scale(0.015625)\"/>\n        <path id=\"DejaVuSans-6c\" d=\"M 603 4863 \nL 1178 4863 \nL 1178 0 \nL 603 0 \nL 603 4863 \nz\n\" transform=\"scale(0.015625)\"/>\n       </defs>\n       <use xlink:href=\"#DejaVuSans-4e\"/>\n       <use xlink:href=\"#DejaVuSans-6f\" transform=\"translate(74.804688 0)\"/>\n       <use xlink:href=\"#DejaVuSans-72\" transform=\"translate(135.986328 0)\"/>\n       <use xlink:href=\"#DejaVuSans-6d\" transform=\"translate(175.349609 0)\"/>\n       <use xlink:href=\"#DejaVuSans-61\" transform=\"translate(272.761719 0)\"/>\n       <use xlink:href=\"#DejaVuSans-6c\" transform=\"translate(334.041016 0)\"/>\n      </g>\n     </g>\n    </g>\n    <g id=\"xtick_2\">\n     <g id=\"line2d_2\">\n      <g>\n       <use xlink:href=\"#mda910a1f17\" x=\"238.43625\" y=\"244.078125\" style=\"stroke: #000000; stroke-width: 0.8\"/>\n      </g>\n     </g>\n     <g id=\"text_2\">\n      <!-- Fraud -->\n      <g transform=\"translate(224.460469 258.676562) scale(0.1 -0.1)\">\n       <defs>\n        <path id=\"DejaVuSans-46\" d=\"M 628 4666 \nL 3309 4666 \nL 3309 4134 \nL 1259 4134 \nL 1259 2759 \nL 3109 2759 \nL 3109 2228 \nL 1259 2228 \nL 1259 0 \nL 628 0 \nL 628 4666 \nz\n\" transform=\"scale(0.015625)\"/>\n        <path id=\"DejaVuSans-75\" d=\"M 544 1381 \nL 544 3500 \nL 1119 3500 \nL 1119 1403 \nQ 1119 906 1312 657 \nQ 1506 409 1894 409 \nQ 2359 409 2629 706 \nQ 2900 1003 2900 1516 \nL 2900 3500 \nL 3475 3500 \nL 3475 0 \nL 2900 0 \nL 2900 538 \nQ 2691 219 2414 64 \nQ 2138 -91 1772 -91 \nQ 1169 -91 856 284 \nQ 544 659 544 1381 \nz\nM 1991 3584 \nL 1991 3584 \nz\n\" transform=\"scale(0.015625)\"/>\n        <path id=\"DejaVuSans-64\" d=\"M 2906 2969 \nL 2906 4863 \nL 3481 4863 \nL 3481 0 \nL 2906 0 \nL 2906 525 \nQ 2725 213 2448 61 \nQ 2172 -91 1784 -91 \nQ 1150 -91 751 415 \nQ 353 922 353 1747 \nQ 353 2572 751 3078 \nQ 1150 3584 1784 3584 \nQ 2172 3584 2448 3432 \nQ 2725 3281 2906 2969 \nz\nM 947 1747 \nQ 947 1113 1208 752 \nQ 1469 391 1925 391 \nQ 2381 391 2643 752 \nQ 2906 1113 2906 1747 \nQ 2906 2381 2643 2742 \nQ 2381 3103 1925 3103 \nQ 1469 3103 1208 2742 \nQ 947 2381 947 1747 \nz\n\" transform=\"scale(0.015625)\"/>\n       </defs>\n       <use xlink:href=\"#DejaVuSans-46\"/>\n       <use xlink:href=\"#DejaVuSans-72\" transform=\"translate(50.269531 0)\"/>\n       <use xlink:href=\"#DejaVuSans-61\" transform=\"translate(91.382812 0)\"/>\n       <use xlink:href=\"#DejaVuSans-75\" transform=\"translate(152.662109 0)\"/>\n       <use xlink:href=\"#DejaVuSans-64\" transform=\"translate(216.041016 0)\"/>\n      </g>\n     </g>\n    </g>\n    <g id=\"text_3\">\n     <!-- Predicted Label -->\n     <g transform=\"translate(132.927031 272.354687) scale(0.1 -0.1)\">\n      <defs>\n       <path id=\"DejaVuSans-50\" d=\"M 1259 4147 \nL 1259 2394 \nL 2053 2394 \nQ 2494 2394 2734 2622 \nQ 2975 2850 2975 3272 \nQ 2975 3691 2734 3919 \nQ 2494 4147 2053 4147 \nL 1259 4147 \nz\nM 628 4666 \nL 2053 4666 \nQ 2838 4666 3239 4311 \nQ 3641 3956 3641 3272 \nQ 3641 2581 3239 2228 \nQ 2838 1875 2053 1875 \nL 1259 1875 \nL 1259 0 \nL 628 0 \nL 628 4666 \nz\n\" transform=\"scale(0.015625)\"/>\n       <path id=\"DejaVuSans-65\" d=\"M 3597 1894 \nL 3597 1613 \nL 953 1613 \nQ 991 1019 1311 708 \nQ 1631 397 2203 397 \nQ 2534 397 2845 478 \nQ 3156 559 3463 722 \nL 3463 178 \nQ 3153 47 2828 -22 \nQ 2503 -91 2169 -91 \nQ 1331 -91 842 396 \nQ 353 884 353 1716 \nQ 353 2575 817 3079 \nQ 1281 3584 2069 3584 \nQ 2775 3584 3186 3129 \nQ 3597 2675 3597 1894 \nz\nM 3022 2063 \nQ 3016 2534 2758 2815 \nQ 2500 3097 2075 3097 \nQ 1594 3097 1305 2825 \nQ 1016 2553 972 2059 \nL 3022 2063 \nz\n\" transform=\"scale(0.015625)\"/>\n       <path id=\"DejaVuSans-69\" d=\"M 603 3500 \nL 1178 3500 \nL 1178 0 \nL 603 0 \nL 603 3500 \nz\nM 603 4863 \nL 1178 4863 \nL 1178 4134 \nL 603 4134 \nL 603 4863 \nz\n\" transform=\"scale(0.015625)\"/>\n       <path id=\"DejaVuSans-63\" d=\"M 3122 3366 \nL 3122 2828 \nQ 2878 2963 2633 3030 \nQ 2388 3097 2138 3097 \nQ 1578 3097 1268 2742 \nQ 959 2388 959 1747 \nQ 959 1106 1268 751 \nQ 1578 397 2138 397 \nQ 2388 397 2633 464 \nQ 2878 531 3122 666 \nL 3122 134 \nQ 2881 22 2623 -34 \nQ 2366 -91 2075 -91 \nQ 1284 -91 818 406 \nQ 353 903 353 1747 \nQ 353 2603 823 3093 \nQ 1294 3584 2113 3584 \nQ 2378 3584 2631 3529 \nQ 2884 3475 3122 3366 \nz\n\" transform=\"scale(0.015625)\"/>\n       <path id=\"DejaVuSans-74\" d=\"M 1172 4494 \nL 1172 3500 \nL 2356 3500 \nL 2356 3053 \nL 1172 3053 \nL 1172 1153 \nQ 1172 725 1289 603 \nQ 1406 481 1766 481 \nL 2356 481 \nL 2356 0 \nL 1766 0 \nQ 1100 0 847 248 \nQ 594 497 594 1153 \nL 594 3053 \nL 172 3053 \nL 172 3500 \nL 594 3500 \nL 594 4494 \nL 1172 4494 \nz\n\" transform=\"scale(0.015625)\"/>\n       <path id=\"DejaVuSans-20\" transform=\"scale(0.015625)\"/>\n       <path id=\"DejaVuSans-4c\" d=\"M 628 4666 \nL 1259 4666 \nL 1259 531 \nL 3531 531 \nL 3531 0 \nL 628 0 \nL 628 4666 \nz\n\" transform=\"scale(0.015625)\"/>\n       <path id=\"DejaVuSans-62\" d=\"M 3116 1747 \nQ 3116 2381 2855 2742 \nQ 2594 3103 2138 3103 \nQ 1681 3103 1420 2742 \nQ 1159 2381 1159 1747 \nQ 1159 1113 1420 752 \nQ 1681 391 2138 391 \nQ 2594 391 2855 752 \nQ 3116 1113 3116 1747 \nz\nM 1159 2969 \nQ 1341 3281 1617 3432 \nQ 1894 3584 2278 3584 \nQ 2916 3584 3314 3078 \nQ 3713 2572 3713 1747 \nQ 3713 922 3314 415 \nQ 2916 -91 2278 -91 \nQ 1894 -91 1617 61 \nQ 1341 213 1159 525 \nL 1159 0 \nL 581 0 \nL 581 4863 \nL 1159 4863 \nL 1159 2969 \nz\n\" transform=\"scale(0.015625)\"/>\n      </defs>\n      <use xlink:href=\"#DejaVuSans-50\"/>\n      <use xlink:href=\"#DejaVuSans-72\" transform=\"translate(58.552734 0)\"/>\n      <use xlink:href=\"#DejaVuSans-65\" transform=\"translate(97.416016 0)\"/>\n      <use xlink:href=\"#DejaVuSans-64\" transform=\"translate(158.939453 0)\"/>\n      <use xlink:href=\"#DejaVuSans-69\" transform=\"translate(222.416016 0)\"/>\n      <use xlink:href=\"#DejaVuSans-63\" transform=\"translate(250.199219 0)\"/>\n      <use xlink:href=\"#DejaVuSans-74\" transform=\"translate(305.179688 0)\"/>\n      <use xlink:href=\"#DejaVuSans-65\" transform=\"translate(344.388672 0)\"/>\n      <use xlink:href=\"#DejaVuSans-64\" transform=\"translate(405.912109 0)\"/>\n      <use xlink:href=\"#DejaVuSans-20\" transform=\"translate(469.388672 0)\"/>\n      <use xlink:href=\"#DejaVuSans-4c\" transform=\"translate(501.175781 0)\"/>\n      <use xlink:href=\"#DejaVuSans-61\" transform=\"translate(556.888672 0)\"/>\n      <use xlink:href=\"#DejaVuSans-62\" transform=\"translate(618.167969 0)\"/>\n      <use xlink:href=\"#DejaVuSans-65\" transform=\"translate(681.644531 0)\"/>\n      <use xlink:href=\"#DejaVuSans-6c\" transform=\"translate(743.167969 0)\"/>\n     </g>\n    </g>\n   </g>\n   <g id=\"matplotlib.axis_2\">\n    <g id=\"ytick_1\">\n     <g id=\"line2d_3\">\n      <defs>\n       <path id=\"m3bc5e426ad\" d=\"M 0 0 \nL -3.5 0 \n\" style=\"stroke: #000000; stroke-width: 0.8\"/>\n      </defs>\n      <g>\n       <use xlink:href=\"#m3bc5e426ad\" x=\"37.55625\" y=\"77.758125\" style=\"stroke: #000000; stroke-width: 0.8\"/>\n      </g>\n     </g>\n     <g id=\"text_4\">\n      <!-- Normal -->\n      <g transform=\"translate(28.476563 95.849531) rotate(-90) scale(0.1 -0.1)\">\n       <use xlink:href=\"#DejaVuSans-4e\"/>\n       <use xlink:href=\"#DejaVuSans-6f\" transform=\"translate(74.804688 0)\"/>\n       <use xlink:href=\"#DejaVuSans-72\" transform=\"translate(135.986328 0)\"/>\n       <use xlink:href=\"#DejaVuSans-6d\" transform=\"translate(175.349609 0)\"/>\n       <use xlink:href=\"#DejaVuSans-61\" transform=\"translate(272.761719 0)\"/>\n       <use xlink:href=\"#DejaVuSans-6c\" transform=\"translate(334.041016 0)\"/>\n      </g>\n     </g>\n    </g>\n    <g id=\"ytick_2\">\n     <g id=\"line2d_4\">\n      <g>\n       <use xlink:href=\"#m3bc5e426ad\" x=\"37.55625\" y=\"188.638125\" style=\"stroke: #000000; stroke-width: 0.8\"/>\n      </g>\n     </g>\n     <g id=\"text_5\">\n      <!-- Fraud -->\n      <g transform=\"translate(28.476563 202.613906) rotate(-90) scale(0.1 -0.1)\">\n       <use xlink:href=\"#DejaVuSans-46\"/>\n       <use xlink:href=\"#DejaVuSans-72\" transform=\"translate(50.269531 0)\"/>\n       <use xlink:href=\"#DejaVuSans-61\" transform=\"translate(91.382812 0)\"/>\n       <use xlink:href=\"#DejaVuSans-75\" transform=\"translate(152.662109 0)\"/>\n       <use xlink:href=\"#DejaVuSans-64\" transform=\"translate(216.041016 0)\"/>\n      </g>\n     </g>\n    </g>\n    <g id=\"text_6\">\n     <!-- True Label -->\n     <g transform=\"translate(14.798438 158.894219) rotate(-90) scale(0.1 -0.1)\">\n      <defs>\n       <path id=\"DejaVuSans-54\" d=\"M -19 4666 \nL 3928 4666 \nL 3928 4134 \nL 2272 4134 \nL 2272 0 \nL 1638 0 \nL 1638 4134 \nL -19 4134 \nL -19 4666 \nz\n\" transform=\"scale(0.015625)\"/>\n      </defs>\n      <use xlink:href=\"#DejaVuSans-54\"/>\n      <use xlink:href=\"#DejaVuSans-72\" transform=\"translate(46.333984 0)\"/>\n      <use xlink:href=\"#DejaVuSans-75\" transform=\"translate(87.447266 0)\"/>\n      <use xlink:href=\"#DejaVuSans-65\" transform=\"translate(150.826172 0)\"/>\n      <use xlink:href=\"#DejaVuSans-20\" transform=\"translate(212.349609 0)\"/>\n      <use xlink:href=\"#DejaVuSans-4c\" transform=\"translate(244.136719 0)\"/>\n      <use xlink:href=\"#DejaVuSans-61\" transform=\"translate(299.849609 0)\"/>\n      <use xlink:href=\"#DejaVuSans-62\" transform=\"translate(361.128906 0)\"/>\n      <use xlink:href=\"#DejaVuSans-65\" transform=\"translate(424.605469 0)\"/>\n      <use xlink:href=\"#DejaVuSans-6c\" transform=\"translate(486.128906 0)\"/>\n     </g>\n    </g>\n   </g>\n   <g id=\"text_7\">\n    <!-- 999 -->\n    <g style=\"fill: #ffffff\" transform=\"translate(94.9725 80.5175) scale(0.1 -0.1)\">\n     <defs>\n      <path id=\"DejaVuSans-39\" d=\"M 703 97 \nL 703 672 \nQ 941 559 1184 500 \nQ 1428 441 1663 441 \nQ 2288 441 2617 861 \nQ 2947 1281 2994 2138 \nQ 2813 1869 2534 1725 \nQ 2256 1581 1919 1581 \nQ 1219 1581 811 2004 \nQ 403 2428 403 3163 \nQ 403 3881 828 4315 \nQ 1253 4750 1959 4750 \nQ 2769 4750 3195 4129 \nQ 3622 3509 3622 2328 \nQ 3622 1225 3098 567 \nQ 2575 -91 1691 -91 \nQ 1453 -91 1209 -44 \nQ 966 3 703 97 \nz\nM 1959 2075 \nQ 2384 2075 2632 2365 \nQ 2881 2656 2881 3163 \nQ 2881 3666 2632 3958 \nQ 2384 4250 1959 4250 \nQ 1534 4250 1286 3958 \nQ 1038 3666 1038 3163 \nQ 1038 2656 1286 2365 \nQ 1534 2075 1959 2075 \nz\n\" transform=\"scale(0.015625)\"/>\n     </defs>\n     <use xlink:href=\"#DejaVuSans-39\"/>\n     <use xlink:href=\"#DejaVuSans-39\" transform=\"translate(63.623047 0)\"/>\n     <use xlink:href=\"#DejaVuSans-39\" transform=\"translate(127.246094 0)\"/>\n    </g>\n   </g>\n   <g id=\"text_8\">\n    <!-- 0 -->\n    <g style=\"fill: #262626\" transform=\"translate(235.255 80.5175) scale(0.1 -0.1)\">\n     <defs>\n      <path id=\"DejaVuSans-30\" d=\"M 2034 4250 \nQ 1547 4250 1301 3770 \nQ 1056 3291 1056 2328 \nQ 1056 1369 1301 889 \nQ 1547 409 2034 409 \nQ 2525 409 2770 889 \nQ 3016 1369 3016 2328 \nQ 3016 3291 2770 3770 \nQ 2525 4250 2034 4250 \nz\nM 2034 4750 \nQ 2819 4750 3233 4129 \nQ 3647 3509 3647 2328 \nQ 3647 1150 3233 529 \nQ 2819 -91 2034 -91 \nQ 1250 -91 836 529 \nQ 422 1150 422 2328 \nQ 422 3509 836 4129 \nQ 1250 4750 2034 4750 \nz\n\" transform=\"scale(0.015625)\"/>\n     </defs>\n     <use xlink:href=\"#DejaVuSans-30\"/>\n    </g>\n   </g>\n   <g id=\"text_9\">\n    <!-- 1 -->\n    <g style=\"fill: #262626\" transform=\"translate(101.335 191.3975) scale(0.1 -0.1)\">\n     <defs>\n      <path id=\"DejaVuSans-31\" d=\"M 794 531 \nL 1825 531 \nL 1825 4091 \nL 703 3866 \nL 703 4441 \nL 1819 4666 \nL 2450 4666 \nL 2450 531 \nL 3481 531 \nL 3481 0 \nL 794 0 \nL 794 531 \nz\n\" transform=\"scale(0.015625)\"/>\n     </defs>\n     <use xlink:href=\"#DejaVuSans-31\"/>\n    </g>\n   </g>\n   <g id=\"text_10\">\n    <!-- 0 -->\n    <g style=\"fill: #262626\" transform=\"translate(235.255 191.3975) scale(0.1 -0.1)\">\n     <use xlink:href=\"#DejaVuSans-30\"/>\n    </g>\n   </g>\n   <g id=\"text_11\">\n    <!-- Confusion Matrix (Fraud Detection Example) -->\n    <g transform=\"translate(38.481563 16.318125) scale(0.12 -0.12)\">\n     <defs>\n      <path id=\"DejaVuSans-43\" d=\"M 4122 4306 \nL 4122 3641 \nQ 3803 3938 3442 4084 \nQ 3081 4231 2675 4231 \nQ 1875 4231 1450 3742 \nQ 1025 3253 1025 2328 \nQ 1025 1406 1450 917 \nQ 1875 428 2675 428 \nQ 3081 428 3442 575 \nQ 3803 722 4122 1019 \nL 4122 359 \nQ 3791 134 3420 21 \nQ 3050 -91 2638 -91 \nQ 1578 -91 968 557 \nQ 359 1206 359 2328 \nQ 359 3453 968 4101 \nQ 1578 4750 2638 4750 \nQ 3056 4750 3426 4639 \nQ 3797 4528 4122 4306 \nz\n\" transform=\"scale(0.015625)\"/>\n      <path id=\"DejaVuSans-6e\" d=\"M 3513 2113 \nL 3513 0 \nL 2938 0 \nL 2938 2094 \nQ 2938 2591 2744 2837 \nQ 2550 3084 2163 3084 \nQ 1697 3084 1428 2787 \nQ 1159 2491 1159 1978 \nL 1159 0 \nL 581 0 \nL 581 3500 \nL 1159 3500 \nL 1159 2956 \nQ 1366 3272 1645 3428 \nQ 1925 3584 2291 3584 \nQ 2894 3584 3203 3211 \nQ 3513 2838 3513 2113 \nz\n\" transform=\"scale(0.015625)\"/>\n      <path id=\"DejaVuSans-66\" d=\"M 2375 4863 \nL 2375 4384 \nL 1825 4384 \nQ 1516 4384 1395 4259 \nQ 1275 4134 1275 3809 \nL 1275 3500 \nL 2222 3500 \nL 2222 3053 \nL 1275 3053 \nL 1275 0 \nL 697 0 \nL 697 3053 \nL 147 3053 \nL 147 3500 \nL 697 3500 \nL 697 3744 \nQ 697 4328 969 4595 \nQ 1241 4863 1831 4863 \nL 2375 4863 \nz\n\" transform=\"scale(0.015625)\"/>\n      <path id=\"DejaVuSans-73\" d=\"M 2834 3397 \nL 2834 2853 \nQ 2591 2978 2328 3040 \nQ 2066 3103 1784 3103 \nQ 1356 3103 1142 2972 \nQ 928 2841 928 2578 \nQ 928 2378 1081 2264 \nQ 1234 2150 1697 2047 \nL 1894 2003 \nQ 2506 1872 2764 1633 \nQ 3022 1394 3022 966 \nQ 3022 478 2636 193 \nQ 2250 -91 1575 -91 \nQ 1294 -91 989 -36 \nQ 684 19 347 128 \nL 347 722 \nQ 666 556 975 473 \nQ 1284 391 1588 391 \nQ 1994 391 2212 530 \nQ 2431 669 2431 922 \nQ 2431 1156 2273 1281 \nQ 2116 1406 1581 1522 \nL 1381 1569 \nQ 847 1681 609 1914 \nQ 372 2147 372 2553 \nQ 372 3047 722 3315 \nQ 1072 3584 1716 3584 \nQ 2034 3584 2315 3537 \nQ 2597 3491 2834 3397 \nz\n\" transform=\"scale(0.015625)\"/>\n      <path id=\"DejaVuSans-4d\" d=\"M 628 4666 \nL 1569 4666 \nL 2759 1491 \nL 3956 4666 \nL 4897 4666 \nL 4897 0 \nL 4281 0 \nL 4281 4097 \nL 3078 897 \nL 2444 897 \nL 1241 4097 \nL 1241 0 \nL 628 0 \nL 628 4666 \nz\n\" transform=\"scale(0.015625)\"/>\n      <path id=\"DejaVuSans-78\" d=\"M 3513 3500 \nL 2247 1797 \nL 3578 0 \nL 2900 0 \nL 1881 1375 \nL 863 0 \nL 184 0 \nL 1544 1831 \nL 300 3500 \nL 978 3500 \nL 1906 2253 \nL 2834 3500 \nL 3513 3500 \nz\n\" transform=\"scale(0.015625)\"/>\n      <path id=\"DejaVuSans-28\" d=\"M 1984 4856 \nQ 1566 4138 1362 3434 \nQ 1159 2731 1159 2009 \nQ 1159 1288 1364 580 \nQ 1569 -128 1984 -844 \nL 1484 -844 \nQ 1016 -109 783 600 \nQ 550 1309 550 2009 \nQ 550 2706 781 3412 \nQ 1013 4119 1484 4856 \nL 1984 4856 \nz\n\" transform=\"scale(0.015625)\"/>\n      <path id=\"DejaVuSans-44\" d=\"M 1259 4147 \nL 1259 519 \nL 2022 519 \nQ 2988 519 3436 956 \nQ 3884 1394 3884 2338 \nQ 3884 3275 3436 3711 \nQ 2988 4147 2022 4147 \nL 1259 4147 \nz\nM 628 4666 \nL 1925 4666 \nQ 3281 4666 3915 4102 \nQ 4550 3538 4550 2338 \nQ 4550 1131 3912 565 \nQ 3275 0 1925 0 \nL 628 0 \nL 628 4666 \nz\n\" transform=\"scale(0.015625)\"/>\n      <path id=\"DejaVuSans-45\" d=\"M 628 4666 \nL 3578 4666 \nL 3578 4134 \nL 1259 4134 \nL 1259 2753 \nL 3481 2753 \nL 3481 2222 \nL 1259 2222 \nL 1259 531 \nL 3634 531 \nL 3634 0 \nL 628 0 \nL 628 4666 \nz\n\" transform=\"scale(0.015625)\"/>\n      <path id=\"DejaVuSans-70\" d=\"M 1159 525 \nL 1159 -1331 \nL 581 -1331 \nL 581 3500 \nL 1159 3500 \nL 1159 2969 \nQ 1341 3281 1617 3432 \nQ 1894 3584 2278 3584 \nQ 2916 3584 3314 3078 \nQ 3713 2572 3713 1747 \nQ 3713 922 3314 415 \nQ 2916 -91 2278 -91 \nQ 1894 -91 1617 61 \nQ 1341 213 1159 525 \nz\nM 3116 1747 \nQ 3116 2381 2855 2742 \nQ 2594 3103 2138 3103 \nQ 1681 3103 1420 2742 \nQ 1159 2381 1159 1747 \nQ 1159 1113 1420 752 \nQ 1681 391 2138 391 \nQ 2594 391 2855 752 \nQ 3116 1113 3116 1747 \nz\n\" transform=\"scale(0.015625)\"/>\n      <path id=\"DejaVuSans-29\" d=\"M 513 4856 \nL 1013 4856 \nQ 1481 4119 1714 3412 \nQ 1947 2706 1947 2009 \nQ 1947 1309 1714 600 \nQ 1481 -109 1013 -844 \nL 513 -844 \nQ 928 -128 1133 580 \nQ 1338 1288 1338 2009 \nQ 1338 2731 1133 3434 \nQ 928 4138 513 4856 \nz\n\" transform=\"scale(0.015625)\"/>\n     </defs>\n     <use xlink:href=\"#DejaVuSans-43\"/>\n     <use xlink:href=\"#DejaVuSans-6f\" transform=\"translate(69.824219 0)\"/>\n     <use xlink:href=\"#DejaVuSans-6e\" transform=\"translate(131.005859 0)\"/>\n     <use xlink:href=\"#DejaVuSans-66\" transform=\"translate(194.384766 0)\"/>\n     <use xlink:href=\"#DejaVuSans-75\" transform=\"translate(229.589844 0)\"/>\n     <use xlink:href=\"#DejaVuSans-73\" transform=\"translate(292.96875 0)\"/>\n     <use xlink:href=\"#DejaVuSans-69\" transform=\"translate(345.068359 0)\"/>\n     <use xlink:href=\"#DejaVuSans-6f\" transform=\"translate(372.851562 0)\"/>\n     <use xlink:href=\"#DejaVuSans-6e\" transform=\"translate(434.033203 0)\"/>\n     <use xlink:href=\"#DejaVuSans-20\" transform=\"translate(497.412109 0)\"/>\n     <use xlink:href=\"#DejaVuSans-4d\" transform=\"translate(529.199219 0)\"/>\n     <use xlink:href=\"#DejaVuSans-61\" transform=\"translate(615.478516 0)\"/>\n     <use xlink:href=\"#DejaVuSans-74\" transform=\"translate(676.757812 0)\"/>\n     <use xlink:href=\"#DejaVuSans-72\" transform=\"translate(715.966797 0)\"/>\n     <use xlink:href=\"#DejaVuSans-69\" transform=\"translate(757.080078 0)\"/>\n     <use xlink:href=\"#DejaVuSans-78\" transform=\"translate(784.863281 0)\"/>\n     <use xlink:href=\"#DejaVuSans-20\" transform=\"translate(844.042969 0)\"/>\n     <use xlink:href=\"#DejaVuSans-28\" transform=\"translate(875.830078 0)\"/>\n     <use xlink:href=\"#DejaVuSans-46\" transform=\"translate(914.84375 0)\"/>\n     <use xlink:href=\"#DejaVuSans-72\" transform=\"translate(965.113281 0)\"/>\n     <use xlink:href=\"#DejaVuSans-61\" transform=\"translate(1006.226562 0)\"/>\n     <use xlink:href=\"#DejaVuSans-75\" transform=\"translate(1067.505859 0)\"/>\n     <use xlink:href=\"#DejaVuSans-64\" transform=\"translate(1130.884766 0)\"/>\n     <use xlink:href=\"#DejaVuSans-20\" transform=\"translate(1194.361328 0)\"/>\n     <use xlink:href=\"#DejaVuSans-44\" transform=\"translate(1226.148438 0)\"/>\n     <use xlink:href=\"#DejaVuSans-65\" transform=\"translate(1303.150391 0)\"/>\n     <use xlink:href=\"#DejaVuSans-74\" transform=\"translate(1364.673828 0)\"/>\n     <use xlink:href=\"#DejaVuSans-65\" transform=\"translate(1403.882812 0)\"/>\n     <use xlink:href=\"#DejaVuSans-63\" transform=\"translate(1465.40625 0)\"/>\n     <use xlink:href=\"#DejaVuSans-74\" transform=\"translate(1520.386719 0)\"/>\n     <use xlink:href=\"#DejaVuSans-69\" transform=\"translate(1559.595703 0)\"/>\n     <use xlink:href=\"#DejaVuSans-6f\" transform=\"translate(1587.378906 0)\"/>\n     <use xlink:href=\"#DejaVuSans-6e\" transform=\"translate(1648.560547 0)\"/>\n     <use xlink:href=\"#DejaVuSans-20\" transform=\"translate(1711.939453 0)\"/>\n     <use xlink:href=\"#DejaVuSans-45\" transform=\"translate(1743.726562 0)\"/>\n     <use xlink:href=\"#DejaVuSans-78\" transform=\"translate(1806.910156 0)\"/>\n     <use xlink:href=\"#DejaVuSans-61\" transform=\"translate(1866.089844 0)\"/>\n     <use xlink:href=\"#DejaVuSans-6d\" transform=\"translate(1927.369141 0)\"/>\n     <use xlink:href=\"#DejaVuSans-70\" transform=\"translate(2024.78125 0)\"/>\n     <use xlink:href=\"#DejaVuSans-6c\" transform=\"translate(2088.257812 0)\"/>\n     <use xlink:href=\"#DejaVuSans-65\" transform=\"translate(2116.041016 0)\"/>\n     <use xlink:href=\"#DejaVuSans-29\" transform=\"translate(2177.564453 0)\"/>\n    </g>\n   </g>\n  </g>\n  <g id=\"axes_2\">\n   <g id=\"patch_3\">\n    <path d=\"M 322.13625 244.078125 \nL 333.22425 244.078125 \nL 333.22425 22.318125 \nL 322.13625 22.318125 \nz\n\" style=\"fill: #ffffff\"/>\n   </g>\n   <image xlink:href=\"data:image/png;base64,\niVBORw0KGgoAAAANSUhEUgAAABAAAAE0CAYAAAAlubP1AAABm0lEQVR4nO2ZQY4lMQhDPcj3v+4sRsKtOYMjGar5exLzDCH59efvPwnGj144UF74fwXwJNCMB8142BDpMihv/4M4oxcK6yuRDxRgfy9oOURi/1xQHKJcBYjPBe2HqPQFo7zwg/iEQfkuaHslMt6NZQrAQcRBxIRuHHHR3A6RN1yRh8gbrshDZJsQyhSAL/RCpxWUt/9BfMKg8i70gH8wtN2FTqfAB2eivAUa+V6QuQC2Q6SroEwBGFDKvb4OyhSAF4WEtAsKKyhv/yfXvP3jvfPTWdsZcMCBovQCyj+6tL6UO82A8W6s/HDtNAPeiYQ8A951HwN6QWkF5YV/4smT78by9h9RiXGIzH+k6XQ7M36gMP/0VRxixx8cis8F5SHqekH7ISqtoLzwNymcC8D2FBhXUF74hBQ+oKC8/SekcC7gxf2gt0PknUgY0Ez4ggvavgDOBcYhcsJc0PYFcC5wP0SeCzgXMCAFngsgfIj92xWUFf0ohXYX0HIFZUWPSIFxBWVFj0iBvoIOKygr+isu6AMu6LdD5J1IsBX8AD0QGyR/jzEVAAAAAElFTkSuQmCC\" id=\"image53d1664ebe\" transform=\"scale(1 -1) translate(0 -221.76)\" x=\"321.84\" y=\"-22.32\" width=\"11.52\" height=\"221.76\"/>\n   <g id=\"matplotlib.axis_3\"/>\n   <g id=\"matplotlib.axis_4\">\n    <g id=\"ytick_3\">\n     <g id=\"line2d_5\">\n      <defs>\n       <path id=\"mb854a1423c\" d=\"M 0 0 \nL 3.5 0 \n\" style=\"stroke: #000000; stroke-width: 0.8\"/>\n      </defs>\n      <g>\n       <use xlink:href=\"#mb854a1423c\" x=\"333.22425\" y=\"244.078125\" style=\"stroke: #000000; stroke-width: 0.8\"/>\n      </g>\n     </g>\n     <g id=\"text_12\">\n      <!-- 0 -->\n      <g transform=\"translate(340.22425 247.877344) scale(0.1 -0.1)\">\n       <use xlink:href=\"#DejaVuSans-30\"/>\n      </g>\n     </g>\n    </g>\n    <g id=\"ytick_4\">\n     <g id=\"line2d_6\">\n      <g>\n       <use xlink:href=\"#mb854a1423c\" x=\"333.22425\" y=\"199.681729\" style=\"stroke: #000000; stroke-width: 0.8\"/>\n      </g>\n     </g>\n     <g id=\"text_13\">\n      <!-- 200 -->\n      <g transform=\"translate(340.22425 203.480947) scale(0.1 -0.1)\">\n       <defs>\n        <path id=\"DejaVuSans-32\" d=\"M 1228 531 \nL 3431 531 \nL 3431 0 \nL 469 0 \nL 469 531 \nQ 828 903 1448 1529 \nQ 2069 2156 2228 2338 \nQ 2531 2678 2651 2914 \nQ 2772 3150 2772 3378 \nQ 2772 3750 2511 3984 \nQ 2250 4219 1831 4219 \nQ 1534 4219 1204 4116 \nQ 875 4013 500 3803 \nL 500 4441 \nQ 881 4594 1212 4672 \nQ 1544 4750 1819 4750 \nQ 2544 4750 2975 4387 \nQ 3406 4025 3406 3419 \nQ 3406 3131 3298 2873 \nQ 3191 2616 2906 2266 \nQ 2828 2175 2409 1742 \nQ 1991 1309 1228 531 \nz\n\" transform=\"scale(0.015625)\"/>\n       </defs>\n       <use xlink:href=\"#DejaVuSans-32\"/>\n       <use xlink:href=\"#DejaVuSans-30\" transform=\"translate(63.623047 0)\"/>\n       <use xlink:href=\"#DejaVuSans-30\" transform=\"translate(127.246094 0)\"/>\n      </g>\n     </g>\n    </g>\n    <g id=\"ytick_5\">\n     <g id=\"line2d_7\">\n      <g>\n       <use xlink:href=\"#mb854a1423c\" x=\"333.22425\" y=\"155.285332\" style=\"stroke: #000000; stroke-width: 0.8\"/>\n      </g>\n     </g>\n     <g id=\"text_14\">\n      <!-- 400 -->\n      <g transform=\"translate(340.22425 159.084551) scale(0.1 -0.1)\">\n       <defs>\n        <path id=\"DejaVuSans-34\" d=\"M 2419 4116 \nL 825 1625 \nL 2419 1625 \nL 2419 4116 \nz\nM 2253 4666 \nL 3047 4666 \nL 3047 1625 \nL 3713 1625 \nL 3713 1100 \nL 3047 1100 \nL 3047 0 \nL 2419 0 \nL 2419 1100 \nL 313 1100 \nL 313 1709 \nL 2253 4666 \nz\n\" transform=\"scale(0.015625)\"/>\n       </defs>\n       <use xlink:href=\"#DejaVuSans-34\"/>\n       <use xlink:href=\"#DejaVuSans-30\" transform=\"translate(63.623047 0)\"/>\n       <use xlink:href=\"#DejaVuSans-30\" transform=\"translate(127.246094 0)\"/>\n      </g>\n     </g>\n    </g>\n    <g id=\"ytick_6\">\n     <g id=\"line2d_8\">\n      <g>\n       <use xlink:href=\"#mb854a1423c\" x=\"333.22425\" y=\"110.888936\" style=\"stroke: #000000; stroke-width: 0.8\"/>\n      </g>\n     </g>\n     <g id=\"text_15\">\n      <!-- 600 -->\n      <g transform=\"translate(340.22425 114.688155) scale(0.1 -0.1)\">\n       <defs>\n        <path id=\"DejaVuSans-36\" d=\"M 2113 2584 \nQ 1688 2584 1439 2293 \nQ 1191 2003 1191 1497 \nQ 1191 994 1439 701 \nQ 1688 409 2113 409 \nQ 2538 409 2786 701 \nQ 3034 994 3034 1497 \nQ 3034 2003 2786 2293 \nQ 2538 2584 2113 2584 \nz\nM 3366 4563 \nL 3366 3988 \nQ 3128 4100 2886 4159 \nQ 2644 4219 2406 4219 \nQ 1781 4219 1451 3797 \nQ 1122 3375 1075 2522 \nQ 1259 2794 1537 2939 \nQ 1816 3084 2150 3084 \nQ 2853 3084 3261 2657 \nQ 3669 2231 3669 1497 \nQ 3669 778 3244 343 \nQ 2819 -91 2113 -91 \nQ 1303 -91 875 529 \nQ 447 1150 447 2328 \nQ 447 3434 972 4092 \nQ 1497 4750 2381 4750 \nQ 2619 4750 2861 4703 \nQ 3103 4656 3366 4563 \nz\n\" transform=\"scale(0.015625)\"/>\n       </defs>\n       <use xlink:href=\"#DejaVuSans-36\"/>\n       <use xlink:href=\"#DejaVuSans-30\" transform=\"translate(63.623047 0)\"/>\n       <use xlink:href=\"#DejaVuSans-30\" transform=\"translate(127.246094 0)\"/>\n      </g>\n     </g>\n    </g>\n    <g id=\"ytick_7\">\n     <g id=\"line2d_9\">\n      <g>\n       <use xlink:href=\"#mb854a1423c\" x=\"333.22425\" y=\"66.492539\" style=\"stroke: #000000; stroke-width: 0.8\"/>\n      </g>\n     </g>\n     <g id=\"text_16\">\n      <!-- 800 -->\n      <g transform=\"translate(340.22425 70.291758) scale(0.1 -0.1)\">\n       <defs>\n        <path id=\"DejaVuSans-38\" d=\"M 2034 2216 \nQ 1584 2216 1326 1975 \nQ 1069 1734 1069 1313 \nQ 1069 891 1326 650 \nQ 1584 409 2034 409 \nQ 2484 409 2743 651 \nQ 3003 894 3003 1313 \nQ 3003 1734 2745 1975 \nQ 2488 2216 2034 2216 \nz\nM 1403 2484 \nQ 997 2584 770 2862 \nQ 544 3141 544 3541 \nQ 544 4100 942 4425 \nQ 1341 4750 2034 4750 \nQ 2731 4750 3128 4425 \nQ 3525 4100 3525 3541 \nQ 3525 3141 3298 2862 \nQ 3072 2584 2669 2484 \nQ 3125 2378 3379 2068 \nQ 3634 1759 3634 1313 \nQ 3634 634 3220 271 \nQ 2806 -91 2034 -91 \nQ 1263 -91 848 271 \nQ 434 634 434 1313 \nQ 434 1759 690 2068 \nQ 947 2378 1403 2484 \nz\nM 1172 3481 \nQ 1172 3119 1398 2916 \nQ 1625 2713 2034 2713 \nQ 2441 2713 2670 2916 \nQ 2900 3119 2900 3481 \nQ 2900 3844 2670 4047 \nQ 2441 4250 2034 4250 \nQ 1625 4250 1398 4047 \nQ 1172 3844 1172 3481 \nz\n\" transform=\"scale(0.015625)\"/>\n       </defs>\n       <use xlink:href=\"#DejaVuSans-38\"/>\n       <use xlink:href=\"#DejaVuSans-30\" transform=\"translate(63.623047 0)\"/>\n       <use xlink:href=\"#DejaVuSans-30\" transform=\"translate(127.246094 0)\"/>\n      </g>\n     </g>\n    </g>\n   </g>\n   <g id=\"LineCollection_1\"/>\n   <g id=\"patch_4\">\n    <path d=\"M 322.13625 244.078125 \nL 327.68025 244.078125 \nL 333.22425 244.078125 \nL 333.22425 22.318125 \nL 327.68025 22.318125 \nL 322.13625 22.318125 \nL 322.13625 244.078125 \nz\n\" style=\"fill: none\"/>\n   </g>\n  </g>\n </g>\n <defs>\n  <clipPath id=\"pcc5ce51a5b\">\n   <rect x=\"37.55625\" y=\"22.318125\" width=\"267.84\" height=\"221.76\"/>\n  </clipPath>\n </defs>\n</svg>\n",
      "image/png": "[encoded data removed]"
     },
     "metadata": {}
    }
   ],
   "source": [
    "# --- 2️ Confusion Matrix ---\n",
    "cm = confusion_matrix(y_true, y_pred)\n",
    "\n",
    "print(\"Confusion Matrix:\\n\", cm)\n",
    "\n",
    "# --- 3️ Plot with Seaborn ---\n",
    "labels = ['Normal', 'Fraud']\n",
    "\n",
    "plt.figure(figsize=(6, 4))\n",
    "sns.heatmap(cm, annot=True, fmt='d', cmap='Blues',\n",
    "            xticklabels=labels, yticklabels=labels)\n",
    "\n",
    "plt.xlabel('Predicted Label')\n",
    "plt.ylabel('True Label')\n",
    "plt.title('Confusion Matrix (Fraud Detection Example)')\n",
    "plt.show()"
   ]
  },
  {
   "cell_type": "code",
   "execution_count": null,
   "metadata": {},
   "outputs": [],
   "source": []
  }
 ]
}
