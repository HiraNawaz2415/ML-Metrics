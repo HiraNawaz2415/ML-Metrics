{
 "metadata": {
  "language_info": {
   "codemirror_mode": {
    "name": "ipython",
    "version": 3
   },
   "file_extension": ".py",
   "mimetype": "text/x-python",
   "name": "python",
   "nbconvert_exporter": "python",
   "pygments_lexer": "ipython3",
   "version": 3
  },
  "orig_nbformat": 2
 },
 "nbformat": 4,
 "nbformat_minor": 2,
 "cells": [
  {
   "source": [
    "# What are Classification Metrics?\n",
    "Classification metrics are quantitative measures that evaluate how well a classification model (like Logistic Regression, Decision Tree, Random Forest, SVM, etc.) performs.\n",
    "## They help you answer:\n",
    " 1. Is the model accurate?\n",
    " 2. Is it missing too many positive/negative cases?\n",
    " 3. Is it biased toward one class?\n",
    "\n",
    "They are especially important when you have imbalanced classes (e.g., fraud detection, disease diagnosis)."
   ],
   "cell_type": "markdown",
   "metadata": {}
  },
  {
   "cell_type": "code",
   "execution_count": null,
   "metadata": {},
   "outputs": [],
   "source": [
    "\n",
    "\n"
   ]
  }
 ]
}